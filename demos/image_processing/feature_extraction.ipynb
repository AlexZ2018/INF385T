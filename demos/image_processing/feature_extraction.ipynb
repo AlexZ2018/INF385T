{
 "cells": [
  {
   "cell_type": "code",
   "execution_count": 1,
   "metadata": {},
   "outputs": [],
   "source": [
    "import cv2\n",
    "import json\n",
    "import os\n",
    "import pprint\n",
    "import requests\n",
    "\n",
    "import matplotlib.pyplot as plt\n",
    "import numpy as np\n",
    "\n",
    "from azure_cfg import cv_key\n",
    "from skimage import io\n",
    "\n",
    "%matplotlib inline"
   ]
  },
  {
   "cell_type": "code",
   "execution_count": 2,
   "metadata": {},
   "outputs": [],
   "source": [
    "# set up global variables\n",
    "subscription_key = cv_key\n",
    "\n",
    "vision_base_url = \"https://westcentralus.api.cognitive.microsoft.com/vision/v1.0/\"\n",
    "vision_analyze_url = vision_base_url + \"analyze?\"\n",
    "\n",
    "image_dir = '../images/'\n",
    "train_image_dir = '../images/train/'\n",
    "test_image_dir = '../images/test/'"
   ]
  },
  {
   "cell_type": "code",
   "execution_count": 3,
   "metadata": {},
   "outputs": [],
   "source": [
    "# evaluate an image using the Microsoft Azure Cognitive Services Computer Vision API\n",
    "def extract_high_level_features(image_path):\n",
    "    headers  = {'Ocp-Apim-Subscription-Key': subscription_key,\n",
    "                'Content-Type'             : 'application/octet-stream'}\n",
    "    params   = {'visualFeatures': 'Adult,Categories,Description,Color,Faces,ImageType,Tags'}\n",
    "    body     = open(image_path, 'rb')\n",
    "\n",
    "    response = requests.post(vision_analyze_url, headers=headers, params=params, data=body)\n",
    "    response.raise_for_status()\n",
    "    data = response.json()\n",
    "    \n",
    "    features = {\n",
    "        \"clip_art_type\"                      : data[\"imageType\"][\"clipArtType\"],\n",
    "        \"line_drawing_type\"                  : data[\"imageType\"][\"lineDrawingType\"],\n",
    "        \"is_black_and_white\"                 : int(data[\"color\"][\"isBwImg\"]),\n",
    "        \"is_adult_content\"                   : int(data[\"adult\"][\"isAdultContent\"]),\n",
    "        \"adult_score\"                        : data[\"adult\"][\"adultScore\"],\n",
    "        \"is_racy\"                            : int(data[\"adult\"][\"isRacyContent\"]),\n",
    "        \"racy_score\"                         : data[\"adult\"][\"racyScore\"],\n",
    "        \"has_faces\"                          : int(len(data[\"faces\"])),\n",
    "        \"num_faces\"                          : len(data[\"faces\"]),\n",
    "        \"is_dominant_color_background_black\" : int(data[\"color\"][\"dominantColorBackground\"] == \"Black\"),\n",
    "        \"is_dominant_color_foreground_black\" : int(data[\"color\"][\"dominantColorForeground\"] == \"Black\")\n",
    "    }\n",
    "    \n",
    "    return list(features.values())"
   ]
  },
  {
   "cell_type": "code",
   "execution_count": 4,
   "metadata": {},
   "outputs": [],
   "source": [
    "# initialize HOG descriptor with (mostly) default supported parameters\n",
    "width, height = 128, 64\n",
    "descriptor = cv2.HOGDescriptor(_winSize = (width,height),\n",
    "                               _blockSize = (16,16),\n",
    "                               _blockStride = (8,8),\n",
    "                               _cellSize = (8,8),\n",
    "                               _nbins = 9)\n",
    "\n",
    "# compute HOG features for an image\n",
    "def extract_low_level_features(image_path, descriptor=descriptor):\n",
    "    image = io.imread(image_path)\n",
    "    image = cv2.cvtColor(image, cv2.COLOR_BGR2RGB)\n",
    "    image = cv2.resize(image, (width,height))\n",
    "\n",
    "    hog = descriptor.compute(image)\n",
    "    hog = hog.flatten().tolist()\n",
    "    return hog"
   ]
  },
  {
   "cell_type": "code",
   "execution_count": 5,
   "metadata": {},
   "outputs": [],
   "source": [
    "# conduct low- and high-level feature extraction for images in a directory\n",
    "def extract_all_features(image_dir):\n",
    "    features = []\n",
    "    for image_path in os.listdir(image_dir):\n",
    "        path = image_dir + image_path\n",
    "\n",
    "        high_level_features = extract_high_level_features(path)\n",
    "        low_level_features = extract_low_level_features(path)\n",
    "        features.append(high_level_features + low_level_features)\n",
    "    \n",
    "    return features"
   ]
  },
  {
   "cell_type": "code",
   "execution_count": 6,
   "metadata": {
    "scrolled": true
   },
   "outputs": [
    {
     "name": "stderr",
     "output_type": "stream",
     "text": [
      "IOPub data rate exceeded.\n",
      "The notebook server will temporarily stop sending output\n",
      "to the client in order to avoid crashing it.\n",
      "To change this limit, set the config variable\n",
      "`--NotebookApp.iopub_data_rate_limit`.\n",
      "\n",
      "Current values:\n",
      "NotebookApp.iopub_data_rate_limit=1000000.0 (bytes/sec)\n",
      "NotebookApp.rate_limit_window=3.0 (secs)\n",
      "\n"
     ]
    }
   ],
   "source": [
    "train_features = extract_all_features(train_image_dir)\n",
    "test_features = extract_all_features(test_image_dir)\n",
    "print('Train features:\\n', train_features)\n",
    "print('Test features:\\n', test_features)"
   ]
  },
  {
   "cell_type": "code",
   "execution_count": 7,
   "metadata": {},
   "outputs": [],
   "source": [
    "# get the class labels for the training instances\n",
    "def get_class_labels():\n",
    "    train_labels = json.load(open('../images/train.json'))\n",
    "    \n",
    "    train_classes = [label['answerable'] for label in train_labels]\n",
    "    return train_classes"
   ]
  },
  {
   "cell_type": "code",
   "execution_count": 8,
   "metadata": {
    "scrolled": false
   },
   "outputs": [
    {
     "name": "stdout",
     "output_type": "stream",
     "text": [
      "Train classes:\n",
      " [1, 1, 1, 1, 1, 1, 1, 1, 1, 1, 1, 0, 1, 1, 0, 1, 1, 1, 1, 1, 1, 0, 1, 1, 1, 1, 1, 0, 0, 1, 0, 1, 1, 1, 0, 1, 0, 0, 0, 1, 1, 1, 0, 1, 1, 0, 0, 0, 1, 1, 0, 0, 1, 1, 1, 1, 1, 0, 1, 1, 1, 1, 0, 1, 1, 0, 0, 0, 0, 1, 1, 0, 0, 1, 0, 0, 0, 1, 1, 1, 1, 1, 1, 1, 0, 1, 1, 0, 0, 0, 1, 0, 1, 1, 1, 0, 0, 0, 1, 1, 1, 0, 0, 1, 1, 1, 1, 0, 1, 0, 1, 0, 1, 1, 1, 1, 1, 1, 1, 0, 0, 0, 1, 0, 1, 0, 0, 1, 1, 1, 1, 0, 0, 1, 1, 0, 1, 0, 1, 1, 1, 0, 1, 1, 1, 1, 1, 1, 0, 1, 1, 0, 1, 1, 0, 0, 0, 1, 0, 0, 1, 1, 1, 1, 0, 1, 1, 1, 1, 1, 1, 0, 1, 1, 1, 1, 1, 1, 1, 1, 1, 0, 0, 1, 1, 1, 0, 1, 1, 1, 0, 1, 1, 0, 0, 0, 1, 1, 1, 1]\n"
     ]
    }
   ],
   "source": [
    "train_classes = get_class_labels()\n",
    "print('Train classes:\\n', train_classes)"
   ]
  },
  {
   "cell_type": "code",
   "execution_count": 9,
   "metadata": {},
   "outputs": [
    {
     "name": "stdout",
     "output_type": "stream",
     "text": [
      "[1 1 1 1 1 1 1 1 0 1 1 1 1 1 1 1 1 1 1 1]\n"
     ]
    }
   ],
   "source": [
    "from sklearn.ensemble import RandomForestClassifier\n",
    "\n",
    "rnd_clf = RandomForestClassifier(n_estimators=500, max_leaf_nodes=16, n_jobs=-1)\n",
    "rnd_clf.fit(X=train_features, y=train_classes)\n",
    "\n",
    "y_pred_rf = rnd_clf.predict(test_features)\n",
    "print(y_pred_rf)"
   ]
  },
  {
   "cell_type": "code",
   "execution_count": null,
   "metadata": {},
   "outputs": [],
   "source": []
  }
 ],
 "metadata": {
  "kernelspec": {
   "display_name": "Python 3",
   "language": "python",
   "name": "python3"
  },
  "language_info": {
   "codemirror_mode": {
    "name": "ipython",
    "version": 3
   },
   "file_extension": ".py",
   "mimetype": "text/x-python",
   "name": "python",
   "nbconvert_exporter": "python",
   "pygments_lexer": "ipython3",
   "version": "3.6.3"
  }
 },
 "nbformat": 4,
 "nbformat_minor": 2
}
