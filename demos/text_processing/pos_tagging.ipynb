{
 "cells": [
  {
   "cell_type": "code",
   "execution_count": 1,
   "metadata": {},
   "outputs": [],
   "source": [
    "import nltk\n",
    "import pprint\n",
    "\n",
    "#nltk.download()"
   ]
  },
  {
   "cell_type": "code",
   "execution_count": 2,
   "metadata": {},
   "outputs": [],
   "source": [
    "# conduct POS tagging and return counts of POS types\n",
    "def pos_tag_text(text):\n",
    "    text = nltk.word_tokenize(text)\n",
    "    tags = nltk.pos_tag(text)\n",
    "    frequencies = nltk.FreqDist(tag for (word, tag) in tags)\n",
    "    \n",
    "    tag_counts = {\n",
    "        'ADJ': 0,\n",
    "        'ADP': 0,\n",
    "        'ADV': 0,\n",
    "        'CONJ': 0,\n",
    "        'DET': 0,\n",
    "        'NOUN': 0,\n",
    "        'NUM': 0,\n",
    "        'PRT': 0,\n",
    "        'PRON': 0,\n",
    "        'VERB': 0,\n",
    "        '.': 0,\n",
    "        'X': 0\n",
    "    }\n",
    "    \n",
    "    for tag, count in frequencies.most_common():\n",
    "        tag_counts[tag] = count\n",
    "        \n",
    "    return tag_counts"
   ]
  },
  {
   "cell_type": "code",
   "execution_count": 3,
   "metadata": {},
   "outputs": [
    {
     "name": "stdout",
     "output_type": "stream",
     "text": [
      "{'.': 0,\n",
      " 'ADJ': 0,\n",
      " 'ADP': 0,\n",
      " 'ADV': 0,\n",
      " 'CC': 1,\n",
      " 'CONJ': 0,\n",
      " 'DET': 0,\n",
      " 'IN': 1,\n",
      " 'JJ': 1,\n",
      " 'NN': 1,\n",
      " 'NOUN': 0,\n",
      " 'NUM': 0,\n",
      " 'PRON': 0,\n",
      " 'PRT': 0,\n",
      " 'RB': 2,\n",
      " 'VERB': 0,\n",
      " 'X': 0}\n"
     ]
    }
   ],
   "source": [
    "text = 'And now for something completely different'\n",
    "pos_counts = pos_tag_text(text)\n",
    "pprint.pprint(pos_counts)"
   ]
  },
  {
   "cell_type": "code",
   "execution_count": null,
   "metadata": {},
   "outputs": [],
   "source": []
  }
 ],
 "metadata": {
  "kernelspec": {
   "display_name": "Python 3",
   "language": "python",
   "name": "python3"
  },
  "language_info": {
   "codemirror_mode": {
    "name": "ipython",
    "version": 3
   },
   "file_extension": ".py",
   "mimetype": "text/x-python",
   "name": "python",
   "nbconvert_exporter": "python",
   "pygments_lexer": "ipython3",
   "version": "3.6.3"
  }
 },
 "nbformat": 4,
 "nbformat_minor": 2
}
