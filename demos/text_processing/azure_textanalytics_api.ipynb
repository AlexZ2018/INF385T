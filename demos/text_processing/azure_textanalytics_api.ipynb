{
 "cells": [
  {
   "cell_type": "code",
   "execution_count": 3,
   "metadata": {},
   "outputs": [],
   "source": [
    "import pprint\n",
    "import requests\n",
    "\n",
    "from azure_cfg import ta_key"
   ]
  },
  {
   "cell_type": "code",
   "execution_count": 4,
   "metadata": {},
   "outputs": [],
   "source": [
    "subscription_key = ta_key\n",
    "\n",
    "text_analytics_base_url = \"https://westcentralus.api.cognitive.microsoft.com/text/analytics/v2.0/\"\n",
    "language_api_url = text_analytics_base_url + \"languages\"\n",
    "sentiment_api_url = text_analytics_base_url + \"sentiment\"\n",
    "key_phrase_api_url = text_analytics_base_url + \"keyPhrases\""
   ]
  },
  {
   "cell_type": "code",
   "execution_count": 5,
   "metadata": {},
   "outputs": [],
   "source": [
    "# evaluate text \"documents\" using the Microsoft Azure Cognitive Services Text Analytics API\n",
    "def analyze_text(documents):\n",
    "    headers   = {\"Ocp-Apim-Subscription-Key\": subscription_key}\n",
    "    \n",
    "    # query API for language analysis\n",
    "    response  = requests.post(language_api_url, headers=headers, json=documents)\n",
    "    languages = response.json()\n",
    "    \n",
    "    # query API for sentiment analysis\n",
    "    response  = requests.post(sentiment_api_url, headers=headers, json=documents)\n",
    "    sentiments = response.json()\n",
    "    \n",
    "    # query API for key phrases extraction\n",
    "    response  = requests.post(key_phrase_api_url, headers=headers, json=documents)\n",
    "    key_phrases = response.json()\n",
    "    \n",
    "    return (languages, sentiments, key_phrases)"
   ]
  },
  {
   "cell_type": "code",
   "execution_count": 6,
   "metadata": {},
   "outputs": [
    {
     "name": "stdout",
     "output_type": "stream",
     "text": [
      "Detected languages:\n",
      "{'documents': [{'detectedLanguages': [{'iso6391Name': 'en',\n",
      "                                       'name': 'English',\n",
      "                                       'score': 1.0}],\n",
      "                'id': '1'},\n",
      "               {'detectedLanguages': [{'iso6391Name': 'en',\n",
      "                                       'name': 'English',\n",
      "                                       'score': 1.0}],\n",
      "                'id': '2'},\n",
      "               {'detectedLanguages': [{'iso6391Name': 'es',\n",
      "                                       'name': 'Spanish',\n",
      "                                       'score': 1.0}],\n",
      "                'id': '3'},\n",
      "               {'detectedLanguages': [{'iso6391Name': 'es',\n",
      "                                       'name': 'Spanish',\n",
      "                                       'score': 1.0}],\n",
      "                'id': '4'}],\n",
      " 'errors': []}\n",
      "\n",
      "Detected sentiments:\n",
      "{'documents': [{'id': '1', 'score': 0.9552919864654541},\n",
      "               {'id': '2', 'score': 0.002100616693496704},\n",
      "               {'id': '3', 'score': 0.5},\n",
      "               {'id': '4', 'score': 0.9315303564071655}],\n",
      " 'errors': []}\n",
      "\n",
      "Extracted key phrases:\n",
      "{'documents': [{'id': '1',\n",
      "                'keyPhrases': ['wonderful experience', 'staff', 'rooms']},\n",
      "               {'id': '2',\n",
      "                'keyPhrases': ['food', 'terrible time', 'hotel', 'staff']},\n",
      "               {'id': '3',\n",
      "                'keyPhrases': ['Los caminos que llevan hasta Monte '\n",
      "                               'Rainier son espectaculares y hermosos']},\n",
      "               {'id': '4',\n",
      "                'keyPhrases': ['Había mucho tráfico', 'día', 'ayer']}],\n",
      " 'errors': []}\n"
     ]
    }
   ],
   "source": [
    "documents = {'documents' : [\n",
    "  {'id': '1', 'text': 'I had a wonderful experience! The rooms were wonderful and the staff was helpful.'},\n",
    "  {'id': '2', 'text': 'I had a terrible time at the hotel. The staff was rude and the food was awful.'},  \n",
    "  {'id': '3', 'text': 'Los caminos que llevan hasta Monte Rainier son espectaculares y hermosos.'},  \n",
    "  {'id': '4', 'text': 'La carretera estaba atascada. Había mucho tráfico el día de ayer.'}\n",
    "]}\n",
    "\n",
    "languages, sentiments, key_phrases = analyze_text(documents)\n",
    "\n",
    "print('Detected languages:')\n",
    "pprint.pprint(languages)\n",
    "\n",
    "print('\\nDetected sentiments:')\n",
    "pprint.pprint(sentiments)\n",
    "\n",
    "print('\\nExtracted key phrases:')\n",
    "pprint.pprint(key_phrases)"
   ]
  },
  {
   "cell_type": "code",
   "execution_count": null,
   "metadata": {},
   "outputs": [],
   "source": []
  }
 ],
 "metadata": {
  "kernelspec": {
   "display_name": "Python 3",
   "language": "python",
   "name": "python3"
  },
  "language_info": {
   "codemirror_mode": {
    "name": "ipython",
    "version": 3
   },
   "file_extension": ".py",
   "mimetype": "text/x-python",
   "name": "python",
   "nbconvert_exporter": "python",
   "pygments_lexer": "ipython3",
   "version": "3.4.3"
  }
 },
 "nbformat": 4,
 "nbformat_minor": 2
}
